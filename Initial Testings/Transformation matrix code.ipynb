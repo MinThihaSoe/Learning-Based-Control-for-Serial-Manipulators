{
 "cells": [
  {
   "cell_type": "code",
   "execution_count": 3,
   "metadata": {},
   "outputs": [],
   "source": [
    "import numpy as np\n",
    "import sympy as sp\n",
    "from sympy import symbols, sin, cos\n",
    "from sympy import *\n",
    "t1, t2, t3, t4, t5, t6, t7, t_i = symbols(\"\\\\theta_1 \\\\theta_2 \\\\theta_3 \\\\theta_4 \\\\theta_5 \\\\theta_6 \\\\theta7 \\\\theta_i\")\n",
    "from sympy import *\n",
    "a1, a2, a3, d, d1, d2, d3, d4, d5, d6, alpha_i1, a_i1,d_i = symbols(\"a_1 a_2 a_3 d d_1 d_2 d_3 d_4 d_5 d_6 \\\\alpha_{i-1} a_{i-1} d_i\")"
   ]
  },
  {
   "cell_type": "code",
   "execution_count": 4,
   "metadata": {},
   "outputs": [
    {
     "data": {
      "text/latex": [
       "$\\displaystyle \\left[\\begin{matrix}\\cos{\\left(\\theta_{i} \\right)} & - \\sin{\\left(\\theta_{i} \\right)} & 0 & a_{i-1}\\\\\\sin{\\left(\\theta_{i} \\right)} \\cos{\\left(\\alpha_{i-1} \\right)} & \\cos{\\left(\\alpha_{i-1} \\right)} \\cos{\\left(\\theta_{i} \\right)} & - \\sin{\\left(\\alpha_{i-1} \\right)} & - d_{i} \\sin{\\left(\\alpha_{i-1} \\right)}\\\\\\sin{\\left(\\alpha_{i-1} \\right)} \\sin{\\left(\\theta_{i} \\right)} & \\sin{\\left(\\alpha_{i-1} \\right)} \\cos{\\left(\\theta_{i} \\right)} & \\cos{\\left(\\alpha_{i-1} \\right)} & d_{i} \\cos{\\left(\\alpha_{i-1} \\right)}\\\\0 & 0 & 0 & 1\\end{matrix}\\right]$"
      ],
      "text/plain": [
       "Matrix([\n",
       "[                  cos(\\theta_i),                  -sin(\\theta_i),                  0,                a_{i-1}],\n",
       "[sin(\\theta_i)*cos(\\alpha_{i-1}), cos(\\alpha_{i-1})*cos(\\theta_i), -sin(\\alpha_{i-1}), -d_i*sin(\\alpha_{i-1})],\n",
       "[sin(\\alpha_{i-1})*sin(\\theta_i), sin(\\alpha_{i-1})*cos(\\theta_i),  cos(\\alpha_{i-1}),  d_i*cos(\\alpha_{i-1})],\n",
       "[                              0,                               0,                  0,                      1]])"
      ]
     },
     "execution_count": 4,
     "metadata": {},
     "output_type": "execute_result"
    }
   ],
   "source": [
    "Rx = Matrix([[1, 0, 0, 0],\n",
    "             [0, cos(alpha_i1), -sin(alpha_i1), 0],\n",
    "             [0, sin(alpha_i1), cos(alpha_i1), 0],\n",
    "             [0, 0, 0, 1]])\n",
    "\n",
    "Dx = Matrix([[1, 0, 0, a_i1],\n",
    "             [0, 1, 0, 0],\n",
    "             [0, 0, 1, 0],\n",
    "             [0, 0, 0, 1]])\n",
    "\n",
    "Rz = Matrix([[cos(t_i), -sin(t_i), 0, 0],\n",
    "             [sin(t_i), cos(t_i), 0, 0],\n",
    "             [0, 0, 1, 0],\n",
    "             [0, 0, 0, 1]])\n",
    "\n",
    "Dz = Matrix([[1, 0, 0, 0],\n",
    "             [0, 1, 0, 0],\n",
    "             [0, 0, 1, d_i],\n",
    "             [0, 0, 0, 1]])\n",
    "T = Rx * Dx * Rz * Dz\n",
    "T"
   ]
  },
  {
   "cell_type": "code",
   "execution_count": 5,
   "metadata": {},
   "outputs": [
    {
     "data": {
      "text/latex": [
       "$\\displaystyle \\left[\\begin{matrix}a_{1} \\cos{\\left(\\theta_{1} \\right)} + a_{2} \\sin{\\left(\\theta_{2} \\right)} \\cos{\\left(\\theta_{1} \\right)} + a_{3} \\sin{\\left(\\theta_{2} + \\theta_{3} \\right)} \\cos{\\left(\\theta_{1} \\right)} + d_{4} \\cos{\\left(\\theta_{1} \\right)} \\cos{\\left(\\theta_{2} + \\theta_{3} \\right)} - d_{6} \\left(\\left(\\sin{\\left(\\theta_{1} \\right)} \\sin{\\left(\\theta_{4} \\right)} + \\sin{\\left(\\theta_{2} + \\theta_{3} \\right)} \\cos{\\left(\\theta_{1} \\right)} \\cos{\\left(\\theta_{4} \\right)}\\right) \\sin{\\left(\\theta_{5} \\right)} - \\cos{\\left(\\theta_{1} \\right)} \\cos{\\left(\\theta_{5} \\right)} \\cos{\\left(\\theta_{2} + \\theta_{3} \\right)}\\right)\\\\a_{1} \\sin{\\left(\\theta_{1} \\right)} + a_{2} \\sin{\\left(\\theta_{1} \\right)} \\sin{\\left(\\theta_{2} \\right)} + a_{3} \\sin{\\left(\\theta_{1} \\right)} \\sin{\\left(\\theta_{2} + \\theta_{3} \\right)} + d_{4} \\sin{\\left(\\theta_{1} \\right)} \\cos{\\left(\\theta_{2} + \\theta_{3} \\right)} - d_{6} \\left(\\left(\\sin{\\left(\\theta_{1} \\right)} \\sin{\\left(\\theta_{2} + \\theta_{3} \\right)} \\cos{\\left(\\theta_{4} \\right)} - \\sin{\\left(\\theta_{4} \\right)} \\cos{\\left(\\theta_{1} \\right)}\\right) \\sin{\\left(\\theta_{5} \\right)} - \\sin{\\left(\\theta_{1} \\right)} \\cos{\\left(\\theta_{5} \\right)} \\cos{\\left(\\theta_{2} + \\theta_{3} \\right)}\\right)\\\\a_{2} \\cos{\\left(\\theta_{2} \\right)} + a_{3} \\cos{\\left(\\theta_{2} + \\theta_{3} \\right)} + d_{1} - d_{4} \\sin{\\left(\\theta_{2} + \\theta_{3} \\right)} - d_{6} \\left(\\sin{\\left(\\theta_{5} \\right)} \\cos{\\left(\\theta_{4} \\right)} \\cos{\\left(\\theta_{2} + \\theta_{3} \\right)} + \\sin{\\left(\\theta_{2} + \\theta_{3} \\right)} \\cos{\\left(\\theta_{5} \\right)}\\right)\\end{matrix}\\right]$"
      ],
      "text/plain": [
       "Matrix([\n",
       "[a_1*cos(\\theta_1) + a_2*sin(\\theta_2)*cos(\\theta_1) + a_3*sin(\\theta_2 + \\theta_3)*cos(\\theta_1) + d_4*cos(\\theta_1)*cos(\\theta_2 + \\theta_3) - d_6*((sin(\\theta_1)*sin(\\theta_4) + sin(\\theta_2 + \\theta_3)*cos(\\theta_1)*cos(\\theta_4))*sin(\\theta_5) - cos(\\theta_1)*cos(\\theta_5)*cos(\\theta_2 + \\theta_3))],\n",
       "[a_1*sin(\\theta_1) + a_2*sin(\\theta_1)*sin(\\theta_2) + a_3*sin(\\theta_1)*sin(\\theta_2 + \\theta_3) + d_4*sin(\\theta_1)*cos(\\theta_2 + \\theta_3) - d_6*((sin(\\theta_1)*sin(\\theta_2 + \\theta_3)*cos(\\theta_4) - sin(\\theta_4)*cos(\\theta_1))*sin(\\theta_5) - sin(\\theta_1)*cos(\\theta_5)*cos(\\theta_2 + \\theta_3))],\n",
       "[                                                                                                                    a_2*cos(\\theta_2) + a_3*cos(\\theta_2 + \\theta_3) + d_1 - d_4*sin(\\theta_2 + \\theta_3) - d_6*(sin(\\theta_5)*cos(\\theta_4)*cos(\\theta_2 + \\theta_3) + sin(\\theta_2 + \\theta_3)*cos(\\theta_5))]])"
      ]
     },
     "execution_count": 5,
     "metadata": {},
     "output_type": "execute_result"
    }
   ],
   "source": [
    "from sympy import collect, simplify, expand, factor\n",
    "#For IRB series general DH parameter:\n",
    "alpha_vals = Matrix([0,-pi/2,0,-pi/2,pi/2,-pi/2])\n",
    "a_vals = Matrix([0,a1,a2,a3,0,0])\n",
    "d_vals = Matrix([d1,0,0,d4,0,d6])\n",
    "theta_vals = Matrix([t1,t2-(pi/2),t3,t4,t5,t6])\n",
    "\n",
    "T1 = T.subs({alpha_i1: alpha_vals[0], a_i1: a_vals[0], d_i: d_vals[0], t_i: theta_vals[0]})\n",
    "T2 = T.subs({alpha_i1: alpha_vals[1], a_i1: a_vals[1], d_i: d_vals[1], t_i: theta_vals[1]})\n",
    "T3 = T.subs({alpha_i1: alpha_vals[2], a_i1: a_vals[2], d_i: d_vals[2], t_i: theta_vals[2]})\n",
    "T4 = T.subs({alpha_i1: alpha_vals[3], a_i1: a_vals[3], d_i: d_vals[3], t_i: theta_vals[3]})\n",
    "T5 = T.subs({alpha_i1: alpha_vals[4], a_i1: a_vals[4], d_i: d_vals[4], t_i: theta_vals[4]})\n",
    "T6 = T.subs({alpha_i1: alpha_vals[5], a_i1: a_vals[5], d_i: d_vals[5], t_i: theta_vals[5]})\n",
    "\n",
    "T_final = T1 * T2 * T3 * T4 * T5 * T6\n",
    "simplify(T_final[0:3,3])"
   ]
  },
  {
   "cell_type": "code",
   "execution_count": 6,
   "metadata": {},
   "outputs": [
    {
     "data": {
      "text/plain": [
       "'End effector position in x'"
      ]
     },
     "metadata": {},
     "output_type": "display_data"
    },
    {
     "data": {
      "text/latex": [
       "$\\displaystyle c_{1} \\left(a_{1} + a_{2} s_{2}\\right) + c_{23} \\left(c_{1} c_{5} d_{6} + c_{1} d_{4}\\right) - d_{6} s_{1} s_{4} s_{5} + s_{23} \\left(a_{3} c_{1} - c_{1} c_{4} d_{6} s_{5}\\right)$"
      ],
      "text/plain": [
       "c1*(a_1 + a_2*s2) + c23*(c1*c5*d_6 + c1*d_4) - d_6*s1*s4*s5 + s23*(a_3*c1 - c1*c4*d_6*s5)"
      ]
     },
     "metadata": {},
     "output_type": "display_data"
    },
    {
     "data": {
      "text/plain": [
       "'End effector position in y'"
      ]
     },
     "metadata": {},
     "output_type": "display_data"
    },
    {
     "data": {
      "text/latex": [
       "$\\displaystyle c_{1} d_{6} s_{4} s_{5} + c_{23} \\left(c_{5} d_{6} s_{1} + d_{4} s_{1}\\right) + s_{1} \\left(a_{1} + a_{2} s_{2}\\right) + s_{23} \\left(a_{3} s_{1} - c_{4} d_{6} s_{1} s_{5}\\right)$"
      ],
      "text/plain": [
       "c1*d_6*s4*s5 + c23*(c5*d_6*s1 + d_4*s1) + s1*(a_1 + a_2*s2) + s23*(a_3*s1 - c4*d_6*s1*s5)"
      ]
     },
     "metadata": {},
     "output_type": "display_data"
    },
    {
     "data": {
      "text/plain": [
       "'End effector position in z'"
      ]
     },
     "metadata": {},
     "output_type": "display_data"
    },
    {
     "data": {
      "text/latex": [
       "$\\displaystyle a_{2} c_{2} + c_{23} \\left(a_{3} - c_{4} d_{6} s_{5}\\right) + d_{1} + s_{23} \\left(- c_{5} d_{6} - d_{4}\\right)$"
      ],
      "text/plain": [
       "a_2*c2 + c23*(a_3 - c4*d_6*s5) + d_1 + s23*(-c5*d_6 - d_4)"
      ]
     },
     "metadata": {},
     "output_type": "display_data"
    }
   ],
   "source": [
    "simplified_x = factor(simplify(T_final[0,3]))\n",
    "collected_x = collect(simplified_x, [cos(t2+t3), sin(t2+t3), cos(t1), sin(t1)])\n",
    "simplified_y = factor(simplify(T_final[1,3]))\n",
    "collected_y = collect(simplified_y, [cos(t2+t3), sin(t2+t3), cos(t1), sin(t1)])\n",
    "simplified_z = factor(simplify(T_final[2,3]))\n",
    "collected_z = collect(simplified_z, [cos(t2+t3), sin(t2+t3), cos(t1), sin(t1)])\n",
    "\n",
    "# Define new symbols for sin and cos functions\n",
    "s = symbols('s1 s2 s3 s4 s5 s6 s7')\n",
    "c = symbols('c1 c2 c3 c4 c5 c6 c7')\n",
    "s23, c23 = symbols('s23 c23')  # For sin(θ2 + θ3) and cos(θ2 + θ3)\n",
    "\n",
    "# Collected components in a list\n",
    "collected_components = [collected_x, collected_y, collected_z]\n",
    "labels = ['x', 'y', 'z']  # Labels for each axis\n",
    "\n",
    "# Create a mapping for substitutions\n",
    "substitution_map = {\n",
    "    sin(t1): s[0], cos(t1): c[0],\n",
    "    sin(t2): s[1], cos(t2): c[1],\n",
    "    sin(t3): s[2], cos(t3): c[2],\n",
    "    sin(t4): s[3], cos(t4): c[3],\n",
    "    sin(t5): s[4], cos(t5): c[4],\n",
    "    sin(t6): s[5], cos(t6): c[5],\n",
    "    sin(t7): s[6], cos(t7): c[6], \n",
    "    sin(t2 + t3): s23, cos(t2 + t3): c23\n",
    "}\n",
    "\n",
    "# Substitute and store the results in a new list\n",
    "collected_substituted = [collected_expr.subs(substitution_map) for collected_expr in collected_components]\n",
    "\n",
    "# Print the substituted expressions with labels\n",
    "for label, expr in zip(labels, collected_substituted):\n",
    "    display(f\"End effector position in {label}\", expr)\n"
   ]
  },
  {
   "cell_type": "code",
   "execution_count": 7,
   "metadata": {},
   "outputs": [
    {
     "data": {
      "text/plain": [
       "'End effector velocity in x'"
      ]
     },
     "metadata": {},
     "output_type": "display_data"
    },
    {
     "data": {
      "text/latex": [
       "$\\displaystyle - \\dot{\\theta}_1 s_{1} \\left(a_{1} + a_{2} s_{2} + a_{3} s_{23} + c_{23} d_{4}\\right) + \\dot{\\theta}_2 a_{2} c_{1} c_{2} + c_{1} c_{5} d_{6} s_{23} \\left(- \\dot{\\theta}_2 - \\dot{\\theta}_3 - \\dot{\\theta}_5 c_{4}\\right) + c_{1} d_{6} s_{5} \\left(- \\dot{\\theta}_1 s_{4} + \\dot{\\theta}_4 s_{23} s_{4} - \\dot{\\theta}_5 c_{23}\\right) + c_{4} d_{6} s_{1} s_{5} \\left(\\dot{\\theta}_1 s_{23} - \\dot{\\theta}_4\\right) + c_{5} d_{6} s_{1} \\left(- \\dot{\\theta}_1 c_{23} - \\dot{\\theta}_5 s_{4}\\right) + \\left(\\dot{\\theta}_2 + \\dot{\\theta}_3\\right) \\left(a_{3} c_{1} c_{23} - c_{1} c_{23} c_{4} d_{6} s_{5} - c_{1} d_{4} s_{23}\\right)$"
      ],
      "text/plain": [
       "-\\dot{\\theta}_1*s1*(a_1 + a_2*s2 + a_3*s23 + c23*d_4) + \\dot{\\theta}_2*a_2*c1*c2 + c1*c5*d_6*s23*(-\\dot{\\theta}_2 - \\dot{\\theta}_3 - \\dot{\\theta}_5*c4) + c1*d_6*s5*(-\\dot{\\theta}_1*s4 + \\dot{\\theta}_4*s23*s4 - \\dot{\\theta}_5*c23) + c4*d_6*s1*s5*(\\dot{\\theta}_1*s23 - \\dot{\\theta}_4) + c5*d_6*s1*(-\\dot{\\theta}_1*c23 - \\dot{\\theta}_5*s4) + (\\dot{\\theta}_2 + \\dot{\\theta}_3)*(a_3*c1*c23 - c1*c23*c4*d_6*s5 - c1*d_4*s23)"
      ]
     },
     "metadata": {},
     "output_type": "display_data"
    },
    {
     "data": {
      "text/plain": [
       "'End effector velocity in y'"
      ]
     },
     "metadata": {},
     "output_type": "display_data"
    },
    {
     "data": {
      "text/latex": [
       "$\\displaystyle \\dot{\\theta}_1 c_{1} \\left(a_{1} + a_{2} s_{2} + a_{3} s_{23} + c_{23} d_{4}\\right) + \\dot{\\theta}_2 a_{2} c_{2} s_{1} - \\dot{\\theta}_5 c_{23} d_{6} s_{1} s_{5} + c_{1} c_{4} d_{6} s_{5} \\left(- \\dot{\\theta}_1 s_{23} + \\dot{\\theta}_4\\right) + c_{1} c_{5} d_{6} \\left(\\dot{\\theta}_1 c_{23} + \\dot{\\theta}_5 s_{4}\\right) + c_{5} d_{6} s_{1} s_{23} \\left(- \\dot{\\theta}_2 - \\dot{\\theta}_3 - \\dot{\\theta}_5 c_{4}\\right) + d_{6} s_{1} s_{4} s_{5} \\left(- \\dot{\\theta}_1 + \\dot{\\theta}_4 s_{23}\\right) + \\left(\\dot{\\theta}_2 + \\dot{\\theta}_3\\right) \\left(a_{3} c_{23} s_{1} - c_{23} c_{4} d_{6} s_{1} s_{5} - d_{4} s_{1} s_{23}\\right)$"
      ],
      "text/plain": [
       "\\dot{\\theta}_1*c1*(a_1 + a_2*s2 + a_3*s23 + c23*d_4) + \\dot{\\theta}_2*a_2*c2*s1 - \\dot{\\theta}_5*c23*d_6*s1*s5 + c1*c4*d_6*s5*(-\\dot{\\theta}_1*s23 + \\dot{\\theta}_4) + c1*c5*d_6*(\\dot{\\theta}_1*c23 + \\dot{\\theta}_5*s4) + c5*d_6*s1*s23*(-\\dot{\\theta}_2 - \\dot{\\theta}_3 - \\dot{\\theta}_5*c4) + d_6*s1*s4*s5*(-\\dot{\\theta}_1 + \\dot{\\theta}_4*s23) + (\\dot{\\theta}_2 + \\dot{\\theta}_3)*(a_3*c23*s1 - c23*c4*d_6*s1*s5 - d_4*s1*s23)"
      ]
     },
     "metadata": {},
     "output_type": "display_data"
    },
    {
     "data": {
      "text/plain": [
       "'End effector velocity in z'"
      ]
     },
     "metadata": {},
     "output_type": "display_data"
    },
    {
     "data": {
      "text/latex": [
       "$\\displaystyle - \\dot{\\theta}_2 a_{2} s_{2} + c_{23} c_{5} d_{6} \\left(- \\dot{\\theta}_2 - \\dot{\\theta}_3 - \\dot{\\theta}_5 c_{4}\\right) + d_{6} s_{5} \\left(\\dot{\\theta}_4 c_{23} s_{4} + \\dot{\\theta}_5 s_{23}\\right) + \\left(\\dot{\\theta}_2 + \\dot{\\theta}_3\\right) \\left(- a_{3} s_{23} - c_{23} d_{4} + c_{4} d_{6} s_{23} s_{5}\\right)$"
      ],
      "text/plain": [
       "-\\dot{\\theta}_2*a_2*s2 + c23*c5*d_6*(-\\dot{\\theta}_2 - \\dot{\\theta}_3 - \\dot{\\theta}_5*c4) + d_6*s5*(\\dot{\\theta}_4*c23*s4 + \\dot{\\theta}_5*s23) + (\\dot{\\theta}_2 + \\dot{\\theta}_3)*(-a_3*s23 - c23*d_4 + c4*d_6*s23*s5)"
      ]
     },
     "metadata": {},
     "output_type": "display_data"
    }
   ],
   "source": [
    "from sympy import symbols, cos, sin, diff\n",
    "\n",
    "# Define symbols for angles and their time derivatives\n",
    "t1_dot, t2_dot, t3_dot, t4_dot, t5_dot, t6_dot, t7_dot = symbols(\"\\\\dot{\\\\theta}_1 \\\\dot{\\\\theta}_2 \\\\dot{\\\\theta}_3 \\\\dot{\\\\theta}_4 \\\\dot{\\\\theta}_5 \\\\dot{\\\\theta}_6 \\\\dot{\\\\theta}_7\")\n",
    "\n",
    "# Define end effector positions\n",
    "pos = simplify(T_final[0:3,3])\n",
    "\n",
    "# Differentiate thetas with respect to time to get angular velocities\n",
    "Omega = diff(pos, t1)*t1_dot + diff(pos, t2)*t2_dot + diff(pos, t3)*t3_dot + diff(pos, t4)*t4_dot + diff(pos, t5)*t5_dot + diff(pos, t6)*t6_dot + diff(pos, t7)*t7_dot\n",
    "\n",
    "# Simplify the result\n",
    "collectedOmega_x = collect(Omega[1], [cos(t2+t3), sin(t2+t3), cos(t1), sin(t1)])\n",
    "\n",
    "\n",
    "# Create a mapping for substitutions\n",
    "substitution_map = {\n",
    "    sin(t1): s[0], cos(t1): c[0],\n",
    "    sin(t2): s[1], cos(t2): c[1],\n",
    "    sin(t3): s[2], cos(t3): c[2],\n",
    "    sin(t4): s[3], cos(t4): c[3],\n",
    "    sin(t5): s[4], cos(t5): c[4],\n",
    "    sin(t6): s[5], cos(t6): c[5],\n",
    "    sin(t7): s[6], cos(t7): c[6], \n",
    "    sin(t2 + t3): s23, cos(t2 + t3): c23\n",
    "}\n",
    "# Substitute and store the results in a new list\n",
    "collectedomega_substituted = [collected_expr.subs(substitution_map) for collected_expr in Omega]\n",
    "\n",
    "# Simplify the result\n",
    "collectedOmega_x = collect(expand(collectedomega_substituted[0]), [a3*c[0]*c23, c[0]*c23*c[3]*d6*s[4], c[0]*c[4]*d6*s23, c[0]*d4*s23, c[3]*d6*s[0]*s[4], c[0]*d6*s[4], c[4]*d6*s[0]  ])\n",
    "collectedOmega_x = collect(collectedOmega_x, [t2_dot+t3_dot , -t1_dot*s[0]])\n",
    "\n",
    "collectedOmega_y = collect(expand(collectedomega_substituted[1]), [a3*c23*s[0], d4*s[0]*s23, c23*c[3]*d6*s[0]*s[4], c[4]*d6*s[0]*s23,d6*s[0]*s[4]*s[3], c[0]*c[3]*d6*s[4], c[0]*c[4]*d6 ])\n",
    "collectedOmega_y = collect(collectedOmega_y, [t2_dot+t3_dot, t1_dot*c[0]])\n",
    "collectedOmega_y\n",
    "\n",
    "collectedOmega_z = collect(expand(collectedomega_substituted[2]), [-a3*s23, c[3]*d6*s23*s[4],c23*c[4]*d6, c23*d4, d6*s[4]])\n",
    "collectedOmega_z = collect(collectedOmega_z, [t2_dot+t3_dot])\n",
    "\n",
    "\n",
    "# Print the substituted expressions with labels\n",
    "for label, expr in zip(labels, [collectedOmega_x, collectedOmega_y, collectedOmega_z]):\n",
    "    display(f\"End effector velocity in {label}\", expr)"
   ]
  },
  {
   "cell_type": "code",
   "execution_count": 8,
   "metadata": {},
   "outputs": [
    {
     "data": {
      "text/latex": [
       "$\\displaystyle \\left[\\begin{matrix}0\\\\0\\\\0\\end{matrix}\\right]$"
      ],
      "text/plain": [
       "Matrix([\n",
       "[0],\n",
       "[0],\n",
       "[0]])"
      ]
     },
     "metadata": {},
     "output_type": "display_data"
    }
   ],
   "source": [
    "from sympy import symbols, cos, sin, diff, simplify, collect, Matrix\n",
    "\n",
    "theta = symbols('theta_1 theta_2 theta_3 theta_4 theta_5 theta_6 theta_7')\n",
    "theta_dot = symbols('\\\\dot{\\\\theta}_1 \\\\dot{\\\\theta}_2 \\\\dot{\\\\theta}_3 \\\\dot{\\\\theta}_4 \\\\dot{\\\\theta}_5 \\\\dot{\\\\theta}_6 \\\\dot{\\\\theta}_7')\n",
    "\n",
    "# Extract position from the transformation matrix\n",
    "pos = T_final[0:3, 3]  # Assuming T_final has the form [R|d]\n",
    "\n",
    "# Initialize the velocity (Omega) expression\n",
    "Omega = Matrix.zeros(3, 1)  # 3D velocity vector\n",
    "\n",
    "# Initialize the velocity (Omega) expression\n",
    "Omega = Matrix.zeros(3, 1)  # 3D velocity vector\n",
    "\n",
    "# Loop through each joint angle to compute the velocity contribution\n",
    "for i in range(len(theta)):\n",
    "    # Differentiate the position with respect to each theta\n",
    "    d_pos_dtheta = diff(pos, theta[i])\n",
    "    # Add the contribution to the velocity\n",
    "    Omega += d_pos_dtheta * theta_dot[i]\n",
    "\n",
    "# Simplify the result\n",
    "Omega_simplified = simplify(Omega)\n",
    "\n",
    "# Factor the expression based on joint angle derivatives\n",
    "Omega_factors = factor(Omega_simplified)\n",
    "\n",
    "# Display the results\n",
    "display(Omega_factors)"
   ]
  },
  {
   "cell_type": "code",
   "execution_count": 9,
   "metadata": {},
   "outputs": [
    {
     "data": {
      "text/latex": [
       "$\\displaystyle \\left[\\begin{matrix}\\left(\\left(\\sin{\\left(\\theta_{1} \\right)} \\sin{\\left(\\theta_{4} \\right)} + \\sin{\\left(\\theta_{2} + \\theta_{3} \\right)} \\cos{\\left(\\theta_{1} \\right)} \\cos{\\left(\\theta_{4} \\right)}\\right) \\cos{\\left(\\theta_{5} \\right)} + \\sin{\\left(\\theta_{5} \\right)} \\cos{\\left(\\theta_{1} \\right)} \\cos{\\left(\\theta_{2} + \\theta_{3} \\right)}\\right) \\cos{\\left(\\theta_{6} \\right)} - \\left(- \\sin{\\left(\\theta_{1} \\right)} \\cos{\\left(\\theta_{4} \\right)} + \\sin{\\left(\\theta_{4} \\right)} \\sin{\\left(\\theta_{2} + \\theta_{3} \\right)} \\cos{\\left(\\theta_{1} \\right)}\\right) \\sin{\\left(\\theta_{6} \\right)} & - \\left(\\left(\\sin{\\left(\\theta_{1} \\right)} \\sin{\\left(\\theta_{4} \\right)} + \\sin{\\left(\\theta_{2} + \\theta_{3} \\right)} \\cos{\\left(\\theta_{1} \\right)} \\cos{\\left(\\theta_{4} \\right)}\\right) \\cos{\\left(\\theta_{5} \\right)} + \\sin{\\left(\\theta_{5} \\right)} \\cos{\\left(\\theta_{1} \\right)} \\cos{\\left(\\theta_{2} + \\theta_{3} \\right)}\\right) \\sin{\\left(\\theta_{6} \\right)} + \\left(\\sin{\\left(\\theta_{1} \\right)} \\cos{\\left(\\theta_{4} \\right)} - \\sin{\\left(\\theta_{4} \\right)} \\sin{\\left(\\theta_{2} + \\theta_{3} \\right)} \\cos{\\left(\\theta_{1} \\right)}\\right) \\cos{\\left(\\theta_{6} \\right)} & - \\left(\\sin{\\left(\\theta_{1} \\right)} \\sin{\\left(\\theta_{4} \\right)} + \\sin{\\left(\\theta_{2} + \\theta_{3} \\right)} \\cos{\\left(\\theta_{1} \\right)} \\cos{\\left(\\theta_{4} \\right)}\\right) \\sin{\\left(\\theta_{5} \\right)} + \\cos{\\left(\\theta_{1} \\right)} \\cos{\\left(\\theta_{5} \\right)} \\cos{\\left(\\theta_{2} + \\theta_{3} \\right)} & - 85 \\sin{\\left(\\theta_{1} \\right)} \\sin{\\left(\\theta_{4} \\right)} \\sin{\\left(\\theta_{5} \\right)} + 705 \\sin{\\left(\\theta_{2} \\right)} \\cos{\\left(\\theta_{1} \\right)} - 85 \\sin{\\left(\\theta_{5} \\right)} \\sin{\\left(\\theta_{2} + \\theta_{3} \\right)} \\cos{\\left(\\theta_{1} \\right)} \\cos{\\left(\\theta_{4} \\right)} + 135 \\sin{\\left(\\theta_{2} + \\theta_{3} \\right)} \\cos{\\left(\\theta_{1} \\right)} + 85 \\cos{\\left(\\theta_{1} \\right)} \\cos{\\left(\\theta_{5} \\right)} \\cos{\\left(\\theta_{2} + \\theta_{3} \\right)} + 755 \\cos{\\left(\\theta_{1} \\right)} \\cos{\\left(\\theta_{2} + \\theta_{3} \\right)} + 100 \\cos{\\left(\\theta_{1} \\right)}\\\\\\left(\\left(\\sin{\\left(\\theta_{1} \\right)} \\sin{\\left(\\theta_{2} + \\theta_{3} \\right)} \\cos{\\left(\\theta_{4} \\right)} - \\sin{\\left(\\theta_{4} \\right)} \\cos{\\left(\\theta_{1} \\right)}\\right) \\cos{\\left(\\theta_{5} \\right)} + \\sin{\\left(\\theta_{1} \\right)} \\sin{\\left(\\theta_{5} \\right)} \\cos{\\left(\\theta_{2} + \\theta_{3} \\right)}\\right) \\cos{\\left(\\theta_{6} \\right)} - \\left(\\sin{\\left(\\theta_{1} \\right)} \\sin{\\left(\\theta_{4} \\right)} \\sin{\\left(\\theta_{2} + \\theta_{3} \\right)} + \\cos{\\left(\\theta_{1} \\right)} \\cos{\\left(\\theta_{4} \\right)}\\right) \\sin{\\left(\\theta_{6} \\right)} & - \\left(\\left(\\sin{\\left(\\theta_{1} \\right)} \\sin{\\left(\\theta_{2} + \\theta_{3} \\right)} \\cos{\\left(\\theta_{4} \\right)} - \\sin{\\left(\\theta_{4} \\right)} \\cos{\\left(\\theta_{1} \\right)}\\right) \\cos{\\left(\\theta_{5} \\right)} + \\sin{\\left(\\theta_{1} \\right)} \\sin{\\left(\\theta_{5} \\right)} \\cos{\\left(\\theta_{2} + \\theta_{3} \\right)}\\right) \\sin{\\left(\\theta_{6} \\right)} - \\left(\\sin{\\left(\\theta_{1} \\right)} \\sin{\\left(\\theta_{4} \\right)} \\sin{\\left(\\theta_{2} + \\theta_{3} \\right)} + \\cos{\\left(\\theta_{1} \\right)} \\cos{\\left(\\theta_{4} \\right)}\\right) \\cos{\\left(\\theta_{6} \\right)} & - \\left(\\sin{\\left(\\theta_{1} \\right)} \\sin{\\left(\\theta_{2} + \\theta_{3} \\right)} \\cos{\\left(\\theta_{4} \\right)} - \\sin{\\left(\\theta_{4} \\right)} \\cos{\\left(\\theta_{1} \\right)}\\right) \\sin{\\left(\\theta_{5} \\right)} + \\sin{\\left(\\theta_{1} \\right)} \\cos{\\left(\\theta_{5} \\right)} \\cos{\\left(\\theta_{2} + \\theta_{3} \\right)} & 705 \\sin{\\left(\\theta_{1} \\right)} \\sin{\\left(\\theta_{2} \\right)} - 85 \\sin{\\left(\\theta_{1} \\right)} \\sin{\\left(\\theta_{5} \\right)} \\sin{\\left(\\theta_{2} + \\theta_{3} \\right)} \\cos{\\left(\\theta_{4} \\right)} + 135 \\sin{\\left(\\theta_{1} \\right)} \\sin{\\left(\\theta_{2} + \\theta_{3} \\right)} + 85 \\sin{\\left(\\theta_{1} \\right)} \\cos{\\left(\\theta_{5} \\right)} \\cos{\\left(\\theta_{2} + \\theta_{3} \\right)} + 755 \\sin{\\left(\\theta_{1} \\right)} \\cos{\\left(\\theta_{2} + \\theta_{3} \\right)} + 100 \\sin{\\left(\\theta_{1} \\right)} + 85 \\sin{\\left(\\theta_{4} \\right)} \\sin{\\left(\\theta_{5} \\right)} \\cos{\\left(\\theta_{1} \\right)}\\\\- \\left(\\sin{\\left(\\theta_{5} \\right)} \\sin{\\left(\\theta_{2} + \\theta_{3} \\right)} - \\cos{\\left(\\theta_{4} \\right)} \\cos{\\left(\\theta_{5} \\right)} \\cos{\\left(\\theta_{2} + \\theta_{3} \\right)}\\right) \\cos{\\left(\\theta_{6} \\right)} - \\sin{\\left(\\theta_{4} \\right)} \\sin{\\left(\\theta_{6} \\right)} \\cos{\\left(\\theta_{2} + \\theta_{3} \\right)} & \\left(\\sin{\\left(\\theta_{5} \\right)} \\sin{\\left(\\theta_{2} + \\theta_{3} \\right)} - \\cos{\\left(\\theta_{4} \\right)} \\cos{\\left(\\theta_{5} \\right)} \\cos{\\left(\\theta_{2} + \\theta_{3} \\right)}\\right) \\sin{\\left(\\theta_{6} \\right)} - \\sin{\\left(\\theta_{4} \\right)} \\cos{\\left(\\theta_{6} \\right)} \\cos{\\left(\\theta_{2} + \\theta_{3} \\right)} & - \\sin{\\left(\\theta_{5} \\right)} \\cos{\\left(\\theta_{4} \\right)} \\cos{\\left(\\theta_{2} + \\theta_{3} \\right)} - \\sin{\\left(\\theta_{2} + \\theta_{3} \\right)} \\cos{\\left(\\theta_{5} \\right)} & - 85 \\sin{\\left(\\theta_{5} \\right)} \\cos{\\left(\\theta_{4} \\right)} \\cos{\\left(\\theta_{2} + \\theta_{3} \\right)} - 85 \\sin{\\left(\\theta_{2} + \\theta_{3} \\right)} \\cos{\\left(\\theta_{5} \\right)} - 755 \\sin{\\left(\\theta_{2} + \\theta_{3} \\right)} + 705 \\cos{\\left(\\theta_{2} \\right)} + 135 \\cos{\\left(\\theta_{2} + \\theta_{3} \\right)} + 615\\\\0 & 0 & 0 & 1\\end{matrix}\\right]$"
      ],
      "text/plain": [
       "Matrix([\n",
       "[((sin(\\theta_1)*sin(\\theta_4) + sin(\\theta_2 + \\theta_3)*cos(\\theta_1)*cos(\\theta_4))*cos(\\theta_5) + sin(\\theta_5)*cos(\\theta_1)*cos(\\theta_2 + \\theta_3))*cos(\\theta_6) - (-sin(\\theta_1)*cos(\\theta_4) + sin(\\theta_4)*sin(\\theta_2 + \\theta_3)*cos(\\theta_1))*sin(\\theta_6), -((sin(\\theta_1)*sin(\\theta_4) + sin(\\theta_2 + \\theta_3)*cos(\\theta_1)*cos(\\theta_4))*cos(\\theta_5) + sin(\\theta_5)*cos(\\theta_1)*cos(\\theta_2 + \\theta_3))*sin(\\theta_6) + (sin(\\theta_1)*cos(\\theta_4) - sin(\\theta_4)*sin(\\theta_2 + \\theta_3)*cos(\\theta_1))*cos(\\theta_6), -(sin(\\theta_1)*sin(\\theta_4) + sin(\\theta_2 + \\theta_3)*cos(\\theta_1)*cos(\\theta_4))*sin(\\theta_5) + cos(\\theta_1)*cos(\\theta_5)*cos(\\theta_2 + \\theta_3), -85*sin(\\theta_1)*sin(\\theta_4)*sin(\\theta_5) + 705*sin(\\theta_2)*cos(\\theta_1) - 85*sin(\\theta_5)*sin(\\theta_2 + \\theta_3)*cos(\\theta_1)*cos(\\theta_4) + 135*sin(\\theta_2 + \\theta_3)*cos(\\theta_1) + 85*cos(\\theta_1)*cos(\\theta_5)*cos(\\theta_2 + \\theta_3) + 755*cos(\\theta_1)*cos(\\theta_2 + \\theta_3) + 100*cos(\\theta_1)],\n",
       "[ ((sin(\\theta_1)*sin(\\theta_2 + \\theta_3)*cos(\\theta_4) - sin(\\theta_4)*cos(\\theta_1))*cos(\\theta_5) + sin(\\theta_1)*sin(\\theta_5)*cos(\\theta_2 + \\theta_3))*cos(\\theta_6) - (sin(\\theta_1)*sin(\\theta_4)*sin(\\theta_2 + \\theta_3) + cos(\\theta_1)*cos(\\theta_4))*sin(\\theta_6), -((sin(\\theta_1)*sin(\\theta_2 + \\theta_3)*cos(\\theta_4) - sin(\\theta_4)*cos(\\theta_1))*cos(\\theta_5) + sin(\\theta_1)*sin(\\theta_5)*cos(\\theta_2 + \\theta_3))*sin(\\theta_6) - (sin(\\theta_1)*sin(\\theta_4)*sin(\\theta_2 + \\theta_3) + cos(\\theta_1)*cos(\\theta_4))*cos(\\theta_6), -(sin(\\theta_1)*sin(\\theta_2 + \\theta_3)*cos(\\theta_4) - sin(\\theta_4)*cos(\\theta_1))*sin(\\theta_5) + sin(\\theta_1)*cos(\\theta_5)*cos(\\theta_2 + \\theta_3),  705*sin(\\theta_1)*sin(\\theta_2) - 85*sin(\\theta_1)*sin(\\theta_5)*sin(\\theta_2 + \\theta_3)*cos(\\theta_4) + 135*sin(\\theta_1)*sin(\\theta_2 + \\theta_3) + 85*sin(\\theta_1)*cos(\\theta_5)*cos(\\theta_2 + \\theta_3) + 755*sin(\\theta_1)*cos(\\theta_2 + \\theta_3) + 100*sin(\\theta_1) + 85*sin(\\theta_4)*sin(\\theta_5)*cos(\\theta_1)],\n",
       "[                                                                                                          -(sin(\\theta_5)*sin(\\theta_2 + \\theta_3) - cos(\\theta_4)*cos(\\theta_5)*cos(\\theta_2 + \\theta_3))*cos(\\theta_6) - sin(\\theta_4)*sin(\\theta_6)*cos(\\theta_2 + \\theta_3),                                                                                                            (sin(\\theta_5)*sin(\\theta_2 + \\theta_3) - cos(\\theta_4)*cos(\\theta_5)*cos(\\theta_2 + \\theta_3))*sin(\\theta_6) - sin(\\theta_4)*cos(\\theta_6)*cos(\\theta_2 + \\theta_3),                                                             -sin(\\theta_5)*cos(\\theta_4)*cos(\\theta_2 + \\theta_3) - sin(\\theta_2 + \\theta_3)*cos(\\theta_5),                                                                                                                                    -85*sin(\\theta_5)*cos(\\theta_4)*cos(\\theta_2 + \\theta_3) - 85*sin(\\theta_2 + \\theta_3)*cos(\\theta_5) - 755*sin(\\theta_2 + \\theta_3) + 705*cos(\\theta_2) + 135*cos(\\theta_2 + \\theta_3) + 615],\n",
       "[                                                                                                                                                                                                                                                                              0,                                                                                                                                                                                                                                                                               0,                                                                                                                                                          0,                                                                                                                                                                                                                                                                                                                               1]])"
      ]
     },
     "execution_count": 9,
     "metadata": {},
     "output_type": "execute_result"
    }
   ],
   "source": [
    "#IRB 2400 DH parameters:\n",
    "alpha_vals = Matrix([0,-pi/2,0,-pi/2,pi/2,-pi/2])\n",
    "a_vals = Matrix([0,100,705,135,0,0])\n",
    "d_vals = Matrix([615,0,0,755,0,85])\n",
    "theta_vals = Matrix([t1,t2-(pi/2),t3,t4,t5,t6])\n",
    "\n",
    "T1 = T.subs({alpha_i1: alpha_vals[0], a_i1: a_vals[0], d_i: d_vals[0], t_i: theta_vals[0]})\n",
    "T2 = T.subs({alpha_i1: alpha_vals[1], a_i1: a_vals[1], d_i: d_vals[1], t_i: theta_vals[1]})\n",
    "T3 = T.subs({alpha_i1: alpha_vals[2], a_i1: a_vals[2], d_i: d_vals[2], t_i: theta_vals[2]})\n",
    "T4 = T.subs({alpha_i1: alpha_vals[3], a_i1: a_vals[3], d_i: d_vals[3], t_i: theta_vals[3]})\n",
    "T5 = T.subs({alpha_i1: alpha_vals[4], a_i1: a_vals[4], d_i: d_vals[4], t_i: theta_vals[4]})\n",
    "T6 = T.subs({alpha_i1: alpha_vals[5], a_i1: a_vals[5], d_i: d_vals[5], t_i: theta_vals[5]})\n",
    "\n",
    "T_final = T1 * T2 * T3 * T4 * T5 * T6\n",
    "simplify(T_final[0:3,3])\n",
    "\n",
    "stepback1 = Matrix([[0],\n",
    "                    [0],\n",
    "                    [-85],\n",
    "                    [1]])\n",
    "\n",
    "\n",
    "simplify(T_final)\n"
   ]
  }
 ],
 "metadata": {
  "kernelspec": {
   "display_name": "base",
   "language": "python",
   "name": "python3"
  },
  "language_info": {
   "codemirror_mode": {
    "name": "ipython",
    "version": 3
   },
   "file_extension": ".py",
   "mimetype": "text/x-python",
   "name": "python",
   "nbconvert_exporter": "python",
   "pygments_lexer": "ipython3",
   "version": "3.11.10"
  }
 },
 "nbformat": 4,
 "nbformat_minor": 2
}
